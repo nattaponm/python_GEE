{
 "cells": [
  {
   "cell_type": "markdown",
   "id": "d60d5d3d",
   "metadata": {},
   "source": [
    "# เวิร์คชอปจากลิงก์ https://github.com/yohman/workshop-remote-sensing\n",
    "# วีดีโอ https://www.youtube.com/watch?v=gi4UdFsayoM\n",
    "# การใช้งาน GEE ใน jupyter https://book.geemap.org/chapters/01_introduction.html"
   ]
  },
  {
   "cell_type": "code",
   "execution_count": 4,
   "id": "21145827",
   "metadata": {},
   "outputs": [],
   "source": [
    "# the regulars\n",
    "import pandas as pd\n",
    "import geopandas as gpd\n",
    "\n",
    "# earth engine\n",
    "import ee\n",
    "\n",
    "# allow images to display in the notebook\n",
    "from IPython.display import Image"
   ]
  },
  {
   "cell_type": "code",
   "execution_count": 5,
   "id": "a80ebf46",
   "metadata": {},
   "outputs": [
    {
     "data": {
      "text/html": [
       "<p>To authorize access needed by Earth Engine, open the following\n",
       "        URL in a web browser and follow the instructions:</p>\n",
       "        <p><a href=https://code.earthengine.google.com/client-auth?scopes=https%3A//www.googleapis.com/auth/earthengine%20https%3A//www.googleapis.com/auth/devstorage.full_control&request_id=yII_eoG9CaUDGCHJWWr2_p6FVa-piCNYx97LGpkQCZQ&tc=DbmdJfTH6y7IZyuJ6OfOGUOrJw1bqBDMYmb67SG1Q3E&cc=xd4GiSSkftVomrPP6acXJ5Q1j8Dgvpo0WLqlg8oxbiY>https://code.earthengine.google.com/client-auth?scopes=https%3A//www.googleapis.com/auth/earthengine%20https%3A//www.googleapis.com/auth/devstorage.full_control&request_id=yII_eoG9CaUDGCHJWWr2_p6FVa-piCNYx97LGpkQCZQ&tc=DbmdJfTH6y7IZyuJ6OfOGUOrJw1bqBDMYmb67SG1Q3E&cc=xd4GiSSkftVomrPP6acXJ5Q1j8Dgvpo0WLqlg8oxbiY</a></p>\n",
       "        <p>The authorization workflow will generate a code, which you should paste in the box below.</p>\n",
       "        "
      ],
      "text/plain": [
       "<IPython.core.display.HTML object>"
      ]
     },
     "metadata": {},
     "output_type": "display_data"
    },
    {
     "name": "stdout",
     "output_type": "stream",
     "text": [
      "Enter verification code: 4/1AWgavdcNk0QvVkQTmPconLOuKjD01sfPZFFZv-KWclobK-WXh7ux6It6hOo\n",
      "\n",
      "Successfully saved authorization token.\n"
     ]
    }
   ],
   "source": [
    "# Trigger the authentication flow.\n",
    "ee.Authenticate()\n",
    "\n",
    "# Initialize the library.\n",
    "ee.Initialize()"
   ]
  },
  {
   "cell_type": "code",
   "execution_count": 6,
   "id": "d98c62e6",
   "metadata": {},
   "outputs": [],
   "source": [
    "# coordinates of the Camp Fire\n",
    "lat =  39.444012\n",
    "lon = -121.833619\n",
    "\n",
    "# point of interest as an ee.Geometry\n",
    "poi = ee.Geometry.Point(lon,lat)\n",
    "\n",
    "# start date of range to filter for\n",
    "start_date = '2018-10-01'\n",
    "\n",
    "# end date\n",
    "end_date = '2019-01-31'"
   ]
  },
  {
   "cell_type": "code",
   "execution_count": 7,
   "id": "155b9003",
   "metadata": {},
   "outputs": [],
   "source": [
    "# get the satellite data\n",
    "landsat = ee.ImageCollection(\"LANDSAT/LC08/C02/T1_L2\")\\\n",
    "            .filterBounds(poi)\\\n",
    "            .filterDate(start_date,end_date)"
   ]
  },
  {
   "cell_type": "code",
   "execution_count": 8,
   "id": "a1475430",
   "metadata": {},
   "outputs": [
    {
     "name": "stdout",
     "output_type": "stream",
     "text": [
      "Total number: 8\n"
     ]
    }
   ],
   "source": [
    "# how many images did we get?\n",
    "print('Total number:', landsat.size().getInfo())"
   ]
  },
  {
   "cell_type": "code",
   "execution_count": 9,
   "id": "3e9c7919",
   "metadata": {},
   "outputs": [
    {
     "data": {
      "text/plain": [
       "{'type': 'Image',\n",
       " 'bands': [{'id': 'SR_B1',\n",
       "   'data_type': {'type': 'PixelType',\n",
       "    'precision': 'int',\n",
       "    'min': 0,\n",
       "    'max': 65535},\n",
       "   'dimensions': [7661, 7791],\n",
       "   'crs': 'EPSG:32610',\n",
       "   'crs_transform': [30, 0, 500385, 0, -30, 4423215]},\n",
       "  {'id': 'SR_B2',\n",
       "   'data_type': {'type': 'PixelType',\n",
       "    'precision': 'int',\n",
       "    'min': 0,\n",
       "    'max': 65535},\n",
       "   'dimensions': [7661, 7791],\n",
       "   'crs': 'EPSG:32610',\n",
       "   'crs_transform': [30, 0, 500385, 0, -30, 4423215]},\n",
       "  {'id': 'SR_B3',\n",
       "   'data_type': {'type': 'PixelType',\n",
       "    'precision': 'int',\n",
       "    'min': 0,\n",
       "    'max': 65535},\n",
       "   'dimensions': [7661, 7791],\n",
       "   'crs': 'EPSG:32610',\n",
       "   'crs_transform': [30, 0, 500385, 0, -30, 4423215]},\n",
       "  {'id': 'SR_B4',\n",
       "   'data_type': {'type': 'PixelType',\n",
       "    'precision': 'int',\n",
       "    'min': 0,\n",
       "    'max': 65535},\n",
       "   'dimensions': [7661, 7791],\n",
       "   'crs': 'EPSG:32610',\n",
       "   'crs_transform': [30, 0, 500385, 0, -30, 4423215]},\n",
       "  {'id': 'SR_B5',\n",
       "   'data_type': {'type': 'PixelType',\n",
       "    'precision': 'int',\n",
       "    'min': 0,\n",
       "    'max': 65535},\n",
       "   'dimensions': [7661, 7791],\n",
       "   'crs': 'EPSG:32610',\n",
       "   'crs_transform': [30, 0, 500385, 0, -30, 4423215]},\n",
       "  {'id': 'SR_B6',\n",
       "   'data_type': {'type': 'PixelType',\n",
       "    'precision': 'int',\n",
       "    'min': 0,\n",
       "    'max': 65535},\n",
       "   'dimensions': [7661, 7791],\n",
       "   'crs': 'EPSG:32610',\n",
       "   'crs_transform': [30, 0, 500385, 0, -30, 4423215]},\n",
       "  {'id': 'SR_B7',\n",
       "   'data_type': {'type': 'PixelType',\n",
       "    'precision': 'int',\n",
       "    'min': 0,\n",
       "    'max': 65535},\n",
       "   'dimensions': [7661, 7791],\n",
       "   'crs': 'EPSG:32610',\n",
       "   'crs_transform': [30, 0, 500385, 0, -30, 4423215]},\n",
       "  {'id': 'SR_QA_AEROSOL',\n",
       "   'data_type': {'type': 'PixelType',\n",
       "    'precision': 'int',\n",
       "    'min': 0,\n",
       "    'max': 255},\n",
       "   'dimensions': [7661, 7791],\n",
       "   'crs': 'EPSG:32610',\n",
       "   'crs_transform': [30, 0, 500385, 0, -30, 4423215]},\n",
       "  {'id': 'ST_B10',\n",
       "   'data_type': {'type': 'PixelType',\n",
       "    'precision': 'int',\n",
       "    'min': 0,\n",
       "    'max': 65535},\n",
       "   'dimensions': [7661, 7791],\n",
       "   'crs': 'EPSG:32610',\n",
       "   'crs_transform': [30, 0, 500385, 0, -30, 4423215]},\n",
       "  {'id': 'ST_ATRAN',\n",
       "   'data_type': {'type': 'PixelType',\n",
       "    'precision': 'int',\n",
       "    'min': -32768,\n",
       "    'max': 32767},\n",
       "   'dimensions': [7661, 7791],\n",
       "   'crs': 'EPSG:32610',\n",
       "   'crs_transform': [30, 0, 500385, 0, -30, 4423215]},\n",
       "  {'id': 'ST_CDIST',\n",
       "   'data_type': {'type': 'PixelType',\n",
       "    'precision': 'int',\n",
       "    'min': -32768,\n",
       "    'max': 32767},\n",
       "   'dimensions': [7661, 7791],\n",
       "   'crs': 'EPSG:32610',\n",
       "   'crs_transform': [30, 0, 500385, 0, -30, 4423215]},\n",
       "  {'id': 'ST_DRAD',\n",
       "   'data_type': {'type': 'PixelType',\n",
       "    'precision': 'int',\n",
       "    'min': -32768,\n",
       "    'max': 32767},\n",
       "   'dimensions': [7661, 7791],\n",
       "   'crs': 'EPSG:32610',\n",
       "   'crs_transform': [30, 0, 500385, 0, -30, 4423215]},\n",
       "  {'id': 'ST_EMIS',\n",
       "   'data_type': {'type': 'PixelType',\n",
       "    'precision': 'int',\n",
       "    'min': -32768,\n",
       "    'max': 32767},\n",
       "   'dimensions': [7661, 7791],\n",
       "   'crs': 'EPSG:32610',\n",
       "   'crs_transform': [30, 0, 500385, 0, -30, 4423215]},\n",
       "  {'id': 'ST_EMSD',\n",
       "   'data_type': {'type': 'PixelType',\n",
       "    'precision': 'int',\n",
       "    'min': -32768,\n",
       "    'max': 32767},\n",
       "   'dimensions': [7661, 7791],\n",
       "   'crs': 'EPSG:32610',\n",
       "   'crs_transform': [30, 0, 500385, 0, -30, 4423215]},\n",
       "  {'id': 'ST_QA',\n",
       "   'data_type': {'type': 'PixelType',\n",
       "    'precision': 'int',\n",
       "    'min': -32768,\n",
       "    'max': 32767},\n",
       "   'dimensions': [7661, 7791],\n",
       "   'crs': 'EPSG:32610',\n",
       "   'crs_transform': [30, 0, 500385, 0, -30, 4423215]},\n",
       "  {'id': 'ST_TRAD',\n",
       "   'data_type': {'type': 'PixelType',\n",
       "    'precision': 'int',\n",
       "    'min': -32768,\n",
       "    'max': 32767},\n",
       "   'dimensions': [7661, 7791],\n",
       "   'crs': 'EPSG:32610',\n",
       "   'crs_transform': [30, 0, 500385, 0, -30, 4423215]},\n",
       "  {'id': 'ST_URAD',\n",
       "   'data_type': {'type': 'PixelType',\n",
       "    'precision': 'int',\n",
       "    'min': -32768,\n",
       "    'max': 32767},\n",
       "   'dimensions': [7661, 7791],\n",
       "   'crs': 'EPSG:32610',\n",
       "   'crs_transform': [30, 0, 500385, 0, -30, 4423215]},\n",
       "  {'id': 'QA_PIXEL',\n",
       "   'data_type': {'type': 'PixelType',\n",
       "    'precision': 'int',\n",
       "    'min': 0,\n",
       "    'max': 65535},\n",
       "   'dimensions': [7661, 7791],\n",
       "   'crs': 'EPSG:32610',\n",
       "   'crs_transform': [30, 0, 500385, 0, -30, 4423215]},\n",
       "  {'id': 'QA_RADSAT',\n",
       "   'data_type': {'type': 'PixelType',\n",
       "    'precision': 'int',\n",
       "    'min': 0,\n",
       "    'max': 65535},\n",
       "   'dimensions': [7661, 7791],\n",
       "   'crs': 'EPSG:32610',\n",
       "   'crs_transform': [30, 0, 500385, 0, -30, 4423215]}],\n",
       " 'id': 'LANDSAT/LC08/C02/T1_L2/LC08_044033_20181007',\n",
       " 'version': 1629895720593702,\n",
       " 'properties': {'DATA_SOURCE_ELEVATION': 'GLS2000',\n",
       "  'WRS_TYPE': 2,\n",
       "  'REFLECTANCE_ADD_BAND_1': -0.2,\n",
       "  'REFLECTANCE_ADD_BAND_2': -0.2,\n",
       "  'DATUM': 'WGS84',\n",
       "  'REFLECTANCE_ADD_BAND_3': -0.2,\n",
       "  'REFLECTANCE_ADD_BAND_4': -0.2,\n",
       "  'REFLECTANCE_ADD_BAND_5': -0.2,\n",
       "  'REFLECTANCE_ADD_BAND_6': -0.2,\n",
       "  'REFLECTANCE_ADD_BAND_7': -0.2,\n",
       "  'system:footprint': {'type': 'LinearRing',\n",
       "   'coordinates': [[-120.96945987441705, 37.85396978622024],\n",
       "    [-120.91758272903665, 37.84360095586152],\n",
       "    [-120.91091374989027, 37.84230108097053],\n",
       "    [-120.91032102754652, 37.84319081260253],\n",
       "    [-120.90026375188283, 37.87485737375912],\n",
       "    [-120.88601930375758, 37.91975025888466],\n",
       "    [-120.87475935368046, 37.95523294042605],\n",
       "    [-120.76830993328551, 38.28982473972092],\n",
       "    [-120.60616669159636, 38.7956184110626],\n",
       "    [-120.46920219411804, 39.21870028030481],\n",
       "    [-120.35829507594683, 39.55929948514903],\n",
       "    [-120.358940626908, 39.55982942717467],\n",
       "    [-120.3773619745756, 39.563471697339374],\n",
       "    [-121.13362575572384, 39.70944332250483],\n",
       "    [-122.47094597878574, 39.95415252966201],\n",
       "    [-122.47146231484521, 39.953369391342086],\n",
       "    [-122.47255137997769, 39.95009912185038],\n",
       "    [-122.97579676306593, 38.235899800160965],\n",
       "    [-122.97515026884432, 38.23538966186662],\n",
       "    [-122.83153924692401, 38.209342252115945],\n",
       "    [-120.96945987441705, 37.85396978622024]]},\n",
       "  'REFLECTIVE_SAMPLES': 7661,\n",
       "  'GROUND_CONTROL_POINTS_VERSION': 5,\n",
       "  'SUN_AZIMUTH': 156.37136574,\n",
       "  'DATA_SOURCE_TIRS_STRAY_LIGHT_CORRECTION': 'TIRS',\n",
       "  'UTM_ZONE': 10,\n",
       "  'DATE_ACQUIRED': '2018-10-07',\n",
       "  'ELLIPSOID': 'WGS84',\n",
       "  'system:time_end': 1538937928212,\n",
       "  'DATA_SOURCE_PRESSURE': 'Calculated',\n",
       "  'LANDSAT_PRODUCT_ID': 'LC08_L2SP_044033_20181007_20200830_02_T1',\n",
       "  'STATION_ID': 'LGN',\n",
       "  'TEMPERATURE_ADD_BAND_ST_B10': 149,\n",
       "  'DATA_SOURCE_REANALYSIS': 'GEOS-5 FP-IT',\n",
       "  'REFLECTANCE_MULT_BAND_7': 2.75e-05,\n",
       "  'system:time_start': 1538937928212,\n",
       "  'REFLECTANCE_MULT_BAND_6': 2.75e-05,\n",
       "  'L1_PROCESSING_LEVEL': 'L1TP',\n",
       "  'PROCESSING_SOFTWARE_VERSION': 'LPGS_15.3.1c',\n",
       "  'L1_DATE_PRODUCT_GENERATED': '2020-08-30T22:04:06Z',\n",
       "  'ORIENTATION': 'NORTH_UP',\n",
       "  'REFLECTANCE_MULT_BAND_1': 2.75e-05,\n",
       "  'WRS_ROW': 33,\n",
       "  'REFLECTANCE_MULT_BAND_3': 2.75e-05,\n",
       "  'REFLECTANCE_MULT_BAND_2': 2.75e-05,\n",
       "  'TARGET_WRS_ROW': 33,\n",
       "  'REFLECTANCE_MULT_BAND_5': 2.75e-05,\n",
       "  'REFLECTANCE_MULT_BAND_4': 2.75e-05,\n",
       "  'THERMAL_LINES': 7791,\n",
       "  'TIRS_SSM_POSITION_STATUS': 'ESTIMATED',\n",
       "  'GRID_CELL_SIZE_THERMAL': 30,\n",
       "  'IMAGE_QUALITY_TIRS': 9,\n",
       "  'TRUNCATION_OLI': 'UPPER',\n",
       "  'NADIR_OFFNADIR': 'NADIR',\n",
       "  'CLOUD_COVER': 0.05,\n",
       "  'REQUEST_ID': 'L2',\n",
       "  'EARTH_SUN_DISTANCE': 0.9993983,\n",
       "  'GEOMETRIC_RMSE_VERIFY': 3.028,\n",
       "  'TIRS_SSM_MODEL': 'FINAL',\n",
       "  'COLLECTION_CATEGORY': 'T1',\n",
       "  'SCENE_CENTER_TIME': '18:45:28.2127380Z',\n",
       "  'GRID_CELL_SIZE_REFLECTIVE': 30,\n",
       "  'SUN_ELEVATION': 42.62885674,\n",
       "  'ALGORITHM_SOURCE_SURFACE_TEMPERATURE': 'st_1.3.0',\n",
       "  'TEMPERATURE_MAXIMUM_BAND_ST_B10': 372.999941,\n",
       "  'CLOUD_COVER_LAND': 0.05,\n",
       "  'GEOMETRIC_RMSE_MODEL': 5.915,\n",
       "  'ROLL_ANGLE': -0.001,\n",
       "  'COLLECTION_NUMBER': 2,\n",
       "  'DATE_PRODUCT_GENERATED': 1598825983000,\n",
       "  'L1_REQUEST_ID': 'L2',\n",
       "  'DATA_SOURCE_OZONE': 'MODIS',\n",
       "  'SATURATION_BAND_1': 'Y',\n",
       "  'DATA_SOURCE_WATER_VAPOR': 'MODIS',\n",
       "  'SATURATION_BAND_2': 'Y',\n",
       "  'SATURATION_BAND_3': 'Y',\n",
       "  'IMAGE_QUALITY_OLI': 9,\n",
       "  'SATURATION_BAND_4': 'Y',\n",
       "  'LANDSAT_SCENE_ID': 'LC80440332018280LGN00',\n",
       "  'SATURATION_BAND_5': 'Y',\n",
       "  'MAP_PROJECTION': 'UTM',\n",
       "  'SATURATION_BAND_6': 'Y',\n",
       "  'SENSOR_ID': 'OLI_TIRS',\n",
       "  'SATURATION_BAND_7': 'Y',\n",
       "  'SATURATION_BAND_8': 'N',\n",
       "  'WRS_PATH': 44,\n",
       "  'SATURATION_BAND_9': 'N',\n",
       "  'TARGET_WRS_PATH': 44,\n",
       "  'L1_PROCESSING_SOFTWARE_VERSION': 'LPGS_15.3.1c',\n",
       "  'TEMPERATURE_MULT_BAND_ST_B10': 0.00341802,\n",
       "  'L1_LANDSAT_PRODUCT_ID': 'LC08_L1TP_044033_20181007_20200830_02_T1',\n",
       "  'PROCESSING_LEVEL': 'L2SP',\n",
       "  'ALGORITHM_SOURCE_SURFACE_REFLECTANCE': 'LaSRC_1.5.0',\n",
       "  'GROUND_CONTROL_POINTS_MODEL': 1318,\n",
       "  'SPACECRAFT_ID': 'LANDSAT_8',\n",
       "  'TEMPERATURE_MINIMUM_BAND_ST_B10': 149.003418,\n",
       "  'GEOMETRIC_RMSE_MODEL_Y': 4.945,\n",
       "  'REFLECTIVE_LINES': 7791,\n",
       "  'GEOMETRIC_RMSE_MODEL_X': 3.246,\n",
       "  'THERMAL_SAMPLES': 7661,\n",
       "  'system:asset_size': 965138511,\n",
       "  'DATA_SOURCE_AIR_TEMPERATURE': 'MODIS',\n",
       "  'GROUND_CONTROL_POINTS_VERIFY': 416,\n",
       "  'system:index': 'LC08_044033_20181007'}}"
      ]
     },
     "execution_count": 9,
     "metadata": {},
     "output_type": "execute_result"
    }
   ],
   "source": [
    "# information about the first image in our collection\n",
    "landsat.first().getInfo()"
   ]
  },
  {
   "cell_type": "code",
   "execution_count": 10,
   "id": "801d3253",
   "metadata": {},
   "outputs": [
    {
     "data": {
      "text/plain": [
       "0.05"
      ]
     },
     "execution_count": 10,
     "metadata": {},
     "output_type": "execute_result"
    }
   ],
   "source": [
    "# what about cloud cover of our first image?\n",
    "landsat.first().get('CLOUD_COVER').getInfo()"
   ]
  },
  {
   "cell_type": "code",
   "execution_count": 11,
   "id": "52b4b39d",
   "metadata": {},
   "outputs": [
    {
     "data": {
      "text/plain": [
       "'2018-10-07'"
      ]
     },
     "execution_count": 11,
     "metadata": {},
     "output_type": "execute_result"
    }
   ],
   "source": [
    "# when was this image taken?\n",
    "landsat.first().get('DATE_ACQUIRED').getInfo()"
   ]
  },
  {
   "cell_type": "code",
   "execution_count": 12,
   "id": "73c5fa33",
   "metadata": {},
   "outputs": [
    {
     "data": {
      "text/plain": [
       "['SR_B1',\n",
       " 'SR_B2',\n",
       " 'SR_B3',\n",
       " 'SR_B4',\n",
       " 'SR_B5',\n",
       " 'SR_B6',\n",
       " 'SR_B7',\n",
       " 'SR_QA_AEROSOL',\n",
       " 'ST_B10',\n",
       " 'ST_ATRAN',\n",
       " 'ST_CDIST',\n",
       " 'ST_DRAD',\n",
       " 'ST_EMIS',\n",
       " 'ST_EMSD',\n",
       " 'ST_QA',\n",
       " 'ST_TRAD',\n",
       " 'ST_URAD',\n",
       " 'QA_PIXEL',\n",
       " 'QA_RADSAT']"
      ]
     },
     "execution_count": 12,
     "metadata": {},
     "output_type": "execute_result"
    }
   ],
   "source": [
    "# what bands did we get?\n",
    "landsat.first().bandNames().getInfo()"
   ]
  },
  {
   "cell_type": "code",
   "execution_count": 13,
   "id": "a6b85731",
   "metadata": {},
   "outputs": [],
   "source": [
    "# put the images in a list\n",
    "landsat_list = landsat.toList(landsat.size());"
   ]
  },
  {
   "cell_type": "code",
   "execution_count": 14,
   "id": "9e5d9926",
   "metadata": {},
   "outputs": [],
   "source": [
    "# set some parameters for the images\n",
    "parameters = {\n",
    "                'min': 7000,\n",
    "                'max': 16000,\n",
    "                'dimensions': 800, # square size in pixels\n",
    "                'bands': ['SR_B4', 'SR_B3', 'SR_B2'] # bands to display (r,g,b)\n",
    "             }"
   ]
  },
  {
   "cell_type": "code",
   "execution_count": 15,
   "id": "bb8424d9",
   "metadata": {},
   "outputs": [
    {
     "name": "stdout",
     "output_type": "stream",
     "text": [
      "Image # 0 2018-10-07 Cloud cover: 0.05\n"
     ]
    },
    {
     "data": {
      "text/html": [
       "<img src=\"https://earthengine.googleapis.com/v1alpha/projects/earthengine-legacy/thumbnails/d014c4c20ac3c6069fe82a6f279d3041-2ffc746f578aa1d51d35720da5aa5ef8:getPixels\"/>"
      ],
      "text/plain": [
       "<IPython.core.display.Image object>"
      ]
     },
     "metadata": {},
     "output_type": "display_data"
    },
    {
     "name": "stdout",
     "output_type": "stream",
     "text": [
      "Image # 1 2018-10-23 Cloud cover: 73.04\n"
     ]
    },
    {
     "data": {
      "text/html": [
       "<img src=\"https://earthengine.googleapis.com/v1alpha/projects/earthengine-legacy/thumbnails/d15b77ee1c8c141c17e023362c42fca7-6a1f5a47946ee5a712b726e1c012f6a3:getPixels\"/>"
      ],
      "text/plain": [
       "<IPython.core.display.Image object>"
      ]
     },
     "metadata": {},
     "output_type": "display_data"
    },
    {
     "name": "stdout",
     "output_type": "stream",
     "text": [
      "Image # 2 2018-11-08 Cloud cover: 11.83\n"
     ]
    },
    {
     "data": {
      "text/html": [
       "<img src=\"https://earthengine.googleapis.com/v1alpha/projects/earthengine-legacy/thumbnails/b046d1352726d9c77e26f4f1991de9af-71c6567ffdafe160f6a0649f00f44b69:getPixels\"/>"
      ],
      "text/plain": [
       "<IPython.core.display.Image object>"
      ]
     },
     "metadata": {},
     "output_type": "display_data"
    },
    {
     "name": "stdout",
     "output_type": "stream",
     "text": [
      "Image # 3 2018-11-24 Cloud cover: 67.16\n"
     ]
    },
    {
     "data": {
      "text/html": [
       "<img src=\"https://earthengine.googleapis.com/v1alpha/projects/earthengine-legacy/thumbnails/c75bfe65b028a0fe1493a4ebc2f6bab8-c9296fec4cd900e4be222a018c866968:getPixels\"/>"
      ],
      "text/plain": [
       "<IPython.core.display.Image object>"
      ]
     },
     "metadata": {},
     "output_type": "display_data"
    },
    {
     "name": "stdout",
     "output_type": "stream",
     "text": [
      "Image # 4 2018-12-10 Cloud cover: 56.09\n"
     ]
    },
    {
     "data": {
      "text/html": [
       "<img src=\"https://earthengine.googleapis.com/v1alpha/projects/earthengine-legacy/thumbnails/c2fdd008e5f1cde75514178d8b4db76b-6b0244274aa6517ec693de237c4bee9d:getPixels\"/>"
      ],
      "text/plain": [
       "<IPython.core.display.Image object>"
      ]
     },
     "metadata": {},
     "output_type": "display_data"
    },
    {
     "name": "stdout",
     "output_type": "stream",
     "text": [
      "Image # 5 2018-12-26 Cloud cover: 5.99\n"
     ]
    },
    {
     "data": {
      "text/html": [
       "<img src=\"https://earthengine.googleapis.com/v1alpha/projects/earthengine-legacy/thumbnails/1a5f6ed848e290e12ec58020dfcfd9fe-079dd7ad6939b3113045652c063d7c89:getPixels\"/>"
      ],
      "text/plain": [
       "<IPython.core.display.Image object>"
      ]
     },
     "metadata": {},
     "output_type": "display_data"
    },
    {
     "name": "stdout",
     "output_type": "stream",
     "text": [
      "Image # 6 2019-01-11 Cloud cover: 80.06\n"
     ]
    },
    {
     "data": {
      "text/html": [
       "<img src=\"https://earthengine.googleapis.com/v1alpha/projects/earthengine-legacy/thumbnails/01bdb2e2b887521357581f8035dbbbee-4e9d7b6a952e7a0fbfeabeebd1124e21:getPixels\"/>"
      ],
      "text/plain": [
       "<IPython.core.display.Image object>"
      ]
     },
     "metadata": {},
     "output_type": "display_data"
    },
    {
     "name": "stdout",
     "output_type": "stream",
     "text": [
      "Image # 7 2019-01-27 Cloud cover: 5.21\n"
     ]
    },
    {
     "data": {
      "text/html": [
       "<img src=\"https://earthengine.googleapis.com/v1alpha/projects/earthengine-legacy/thumbnails/28fec61b41c58dec5706b5dffebca978-747d881edb5d68a917dea8c926c1c849:getPixels\"/>"
      ],
      "text/plain": [
       "<IPython.core.display.Image object>"
      ]
     },
     "metadata": {},
     "output_type": "display_data"
    }
   ],
   "source": [
    "# create an empty data container\n",
    "data = []\n",
    "\n",
    "# loop through each image and display it\n",
    "for i in range(landsat.size().getInfo()):\n",
    "\n",
    "    # when was this image taken?\n",
    "    date = ee.Image(landsat_list.get(i)).get('DATE_ACQUIRED').getInfo()\n",
    "    \n",
    "    # cloud cover\n",
    "    cloud = ee.Image(landsat_list.get(i)).get('CLOUD_COVER').getInfo()\n",
    "    \n",
    "    # print the image info\n",
    "    print('Image #',i,date,'Cloud cover:',cloud)\n",
    "    \n",
    "    # display the image\n",
    "    display(Image(url = ee.Image(landsat_list.get(i)).getThumbUrl(parameters)))\n",
    "\n",
    "    # data to list\n",
    "    this_data = [i,date,cloud]\n",
    "\n",
    "    # append the data \n",
    "    data.append(this_data)\n",
    "    \n",
    "\n",
    "# Create the pandas DataFrame\n",
    "df = pd.DataFrame(data, columns = ['Image #', 'Date', 'Cloud Cover'])"
   ]
  },
  {
   "cell_type": "code",
   "execution_count": 16,
   "id": "d4b979d7",
   "metadata": {},
   "outputs": [
    {
     "data": {
      "text/html": [
       "<div>\n",
       "<style scoped>\n",
       "    .dataframe tbody tr th:only-of-type {\n",
       "        vertical-align: middle;\n",
       "    }\n",
       "\n",
       "    .dataframe tbody tr th {\n",
       "        vertical-align: top;\n",
       "    }\n",
       "\n",
       "    .dataframe thead th {\n",
       "        text-align: right;\n",
       "    }\n",
       "</style>\n",
       "<table border=\"1\" class=\"dataframe\">\n",
       "  <thead>\n",
       "    <tr style=\"text-align: right;\">\n",
       "      <th></th>\n",
       "      <th>Image #</th>\n",
       "      <th>Date</th>\n",
       "      <th>Cloud Cover</th>\n",
       "    </tr>\n",
       "  </thead>\n",
       "  <tbody>\n",
       "    <tr>\n",
       "      <th>0</th>\n",
       "      <td>0</td>\n",
       "      <td>2018-10-07</td>\n",
       "      <td>0.05</td>\n",
       "    </tr>\n",
       "    <tr>\n",
       "      <th>1</th>\n",
       "      <td>1</td>\n",
       "      <td>2018-10-23</td>\n",
       "      <td>73.04</td>\n",
       "    </tr>\n",
       "    <tr>\n",
       "      <th>2</th>\n",
       "      <td>2</td>\n",
       "      <td>2018-11-08</td>\n",
       "      <td>11.83</td>\n",
       "    </tr>\n",
       "    <tr>\n",
       "      <th>3</th>\n",
       "      <td>3</td>\n",
       "      <td>2018-11-24</td>\n",
       "      <td>67.16</td>\n",
       "    </tr>\n",
       "    <tr>\n",
       "      <th>4</th>\n",
       "      <td>4</td>\n",
       "      <td>2018-12-10</td>\n",
       "      <td>56.09</td>\n",
       "    </tr>\n",
       "    <tr>\n",
       "      <th>5</th>\n",
       "      <td>5</td>\n",
       "      <td>2018-12-26</td>\n",
       "      <td>5.99</td>\n",
       "    </tr>\n",
       "    <tr>\n",
       "      <th>6</th>\n",
       "      <td>6</td>\n",
       "      <td>2019-01-11</td>\n",
       "      <td>80.06</td>\n",
       "    </tr>\n",
       "    <tr>\n",
       "      <th>7</th>\n",
       "      <td>7</td>\n",
       "      <td>2019-01-27</td>\n",
       "      <td>5.21</td>\n",
       "    </tr>\n",
       "  </tbody>\n",
       "</table>\n",
       "</div>"
      ],
      "text/plain": [
       "   Image #        Date  Cloud Cover\n",
       "0        0  2018-10-07         0.05\n",
       "1        1  2018-10-23        73.04\n",
       "2        2  2018-11-08        11.83\n",
       "3        3  2018-11-24        67.16\n",
       "4        4  2018-12-10        56.09\n",
       "5        5  2018-12-26         5.99\n",
       "6        6  2019-01-11        80.06\n",
       "7        7  2019-01-27         5.21"
      ]
     },
     "execution_count": 16,
     "metadata": {},
     "output_type": "execute_result"
    }
   ],
   "source": [
    "# our data in a dataframe\n",
    "df"
   ]
  },
  {
   "cell_type": "code",
   "execution_count": 17,
   "id": "0b575f42",
   "metadata": {},
   "outputs": [],
   "source": [
    "# create a list of images we want (before, during, after)\n",
    "landsat_sequence = [0,2,5]"
   ]
  },
  {
   "cell_type": "code",
   "execution_count": 18,
   "id": "a4211ba5",
   "metadata": {},
   "outputs": [],
   "source": [
    "# Define a region of interest with a buffer zone of 20 km\n",
    "roi = poi.buffer(20000) # meters"
   ]
  },
  {
   "cell_type": "code",
   "execution_count": 19,
   "id": "e62826e4",
   "metadata": {},
   "outputs": [],
   "source": [
    "parameters = {\n",
    "                'min': 6000,\n",
    "                'max': 16000,\n",
    "                'dimensions': 800,\n",
    "                'bands': ['SR_B4', 'SR_B3', 'SR_B2'],\n",
    "                'region':roi\n",
    "             }"
   ]
  },
  {
   "cell_type": "code",
   "execution_count": 20,
   "id": "a3805cc0",
   "metadata": {},
   "outputs": [
    {
     "name": "stdout",
     "output_type": "stream",
     "text": [
      "Image # 0 2018-10-07 Cloud cover: 0.05\n"
     ]
    },
    {
     "data": {
      "text/html": [
       "<img src=\"https://earthengine.googleapis.com/v1alpha/projects/earthengine-legacy/thumbnails/47512e3d1728fdf19524b13061836a2f-36512c454bcc24adea8ee0acbbb43b52:getPixels\"/>"
      ],
      "text/plain": [
       "<IPython.core.display.Image object>"
      ]
     },
     "metadata": {},
     "output_type": "display_data"
    },
    {
     "name": "stdout",
     "output_type": "stream",
     "text": [
      "Image # 2 2018-11-08 Cloud cover: 11.83\n"
     ]
    },
    {
     "data": {
      "text/html": [
       "<img src=\"https://earthengine.googleapis.com/v1alpha/projects/earthengine-legacy/thumbnails/7a1a88686da6ae8855ac43e2b28240e2-892f59978031ce7c8fa8104c318c7dd9:getPixels\"/>"
      ],
      "text/plain": [
       "<IPython.core.display.Image object>"
      ]
     },
     "metadata": {},
     "output_type": "display_data"
    },
    {
     "name": "stdout",
     "output_type": "stream",
     "text": [
      "Image # 5 2018-12-26 Cloud cover: 5.99\n"
     ]
    },
    {
     "data": {
      "text/html": [
       "<img src=\"https://earthengine.googleapis.com/v1alpha/projects/earthengine-legacy/thumbnails/dd80d9b3036e0b743966cb4dfeae8314-fbbd29c009d443804081cfdedfb8ad6e:getPixels\"/>"
      ],
      "text/plain": [
       "<IPython.core.display.Image object>"
      ]
     },
     "metadata": {},
     "output_type": "display_data"
    }
   ],
   "source": [
    "for i in landsat_sequence:\n",
    "    \n",
    "    # when was this image taken?\n",
    "    date = ee.Image(landsat_list.get(i)).get('DATE_ACQUIRED').getInfo()\n",
    "\n",
    "    # cloud cover\n",
    "    cloud = ee.Image(landsat_list.get(i)).get('CLOUD_COVER').getInfo()\n",
    "    \n",
    "    print('Image #',i,date,'Cloud cover:',cloud)\n",
    "    \n",
    "    display(Image(url = ee.Image(landsat_list.get(i)).getThumbUrl(parameters)))"
   ]
  },
  {
   "cell_type": "code",
   "execution_count": 21,
   "id": "0b729b7b",
   "metadata": {},
   "outputs": [],
   "source": [
    "# ndvi palette: red is low, green is high vegetation\n",
    "palette = ['red', 'yellow', 'green']\n",
    "\n",
    "ndvi_parameters = {'min': 0,\n",
    "                   'max': 0.4,\n",
    "                   'dimensions': 512,\n",
    "                   'palette': palette,\n",
    "                   'region': roi}"
   ]
  },
  {
   "cell_type": "code",
   "execution_count": 22,
   "id": "c1f196fb",
   "metadata": {},
   "outputs": [
    {
     "name": "stdout",
     "output_type": "stream",
     "text": [
      "Image # 0 2018-10-07\n"
     ]
    },
    {
     "data": {
      "text/html": [
       "<img src=\"https://earthengine.googleapis.com/v1alpha/projects/earthengine-legacy/thumbnails/7805089f3284c5ca8bfce8273a2e477c-7fef2cd56f4b854deebbd58c2e5a4643:getPixels\"/>"
      ],
      "text/plain": [
       "<IPython.core.display.Image object>"
      ]
     },
     "metadata": {},
     "output_type": "display_data"
    },
    {
     "name": "stdout",
     "output_type": "stream",
     "text": [
      "Image # 2 2018-11-08\n"
     ]
    },
    {
     "data": {
      "text/html": [
       "<img src=\"https://earthengine.googleapis.com/v1alpha/projects/earthengine-legacy/thumbnails/5b6d6b121c364dcb219cc744d526cf2e-c776a45c2332bd1283265a8c58b09461:getPixels\"/>"
      ],
      "text/plain": [
       "<IPython.core.display.Image object>"
      ]
     },
     "metadata": {},
     "output_type": "display_data"
    },
    {
     "name": "stdout",
     "output_type": "stream",
     "text": [
      "Image # 5 2018-12-26\n"
     ]
    },
    {
     "data": {
      "text/html": [
       "<img src=\"https://earthengine.googleapis.com/v1alpha/projects/earthengine-legacy/thumbnails/40e15b900db11cdc24206ab21422118b-8e0873b0dc70cd4082f73c6316a9d13e:getPixels\"/>"
      ],
      "text/plain": [
       "<IPython.core.display.Image object>"
      ]
     },
     "metadata": {},
     "output_type": "display_data"
    }
   ],
   "source": [
    "for i in landsat_sequence:\n",
    "\n",
    "    # when was this image taken?\n",
    "    date = ee.Image(landsat_list.get(i)).get('DATE_ACQUIRED').getInfo()\n",
    "    \n",
    "    # print some information\n",
    "    print('Image #',i,date)\n",
    "    \n",
    "    # display the image\n",
    "    display(Image(url=ee.Image(landsat_list.get(i)).normalizedDifference(['SR_B5', 'SR_B4']).getThumbUrl(ndvi_parameters)))"
   ]
  },
  {
   "cell_type": "code",
   "execution_count": 23,
   "id": "0aa0bed6",
   "metadata": {},
   "outputs": [
    {
     "data": {
      "text/html": [
       "<div style=\"width:100%;\"><div style=\"position:relative;width:100%;height:0;padding-bottom:60%;\"><span style=\"color:#565656\">Make this Notebook Trusted to load map: File -> Trust Notebook</span><iframe srcdoc=\"&lt;!DOCTYPE html&gt;\n",
       "&lt;html&gt;\n",
       "&lt;head&gt;\n",
       "    \n",
       "    &lt;meta http-equiv=&quot;content-type&quot; content=&quot;text/html; charset=UTF-8&quot; /&gt;\n",
       "    \n",
       "        &lt;script&gt;\n",
       "            L_NO_TOUCH = false;\n",
       "            L_DISABLE_3D = false;\n",
       "        &lt;/script&gt;\n",
       "    \n",
       "    &lt;style&gt;html, body {width: 100%;height: 100%;margin: 0;padding: 0;}&lt;/style&gt;\n",
       "    &lt;style&gt;#map {position:absolute;top:0;bottom:0;right:0;left:0;}&lt;/style&gt;\n",
       "    &lt;script src=&quot;https://cdn.jsdelivr.net/npm/leaflet@1.9.3/dist/leaflet.js&quot;&gt;&lt;/script&gt;\n",
       "    &lt;script src=&quot;https://code.jquery.com/jquery-1.12.4.min.js&quot;&gt;&lt;/script&gt;\n",
       "    &lt;script src=&quot;https://cdn.jsdelivr.net/npm/bootstrap@5.2.2/dist/js/bootstrap.bundle.min.js&quot;&gt;&lt;/script&gt;\n",
       "    &lt;script src=&quot;https://cdnjs.cloudflare.com/ajax/libs/Leaflet.awesome-markers/2.0.2/leaflet.awesome-markers.js&quot;&gt;&lt;/script&gt;\n",
       "    &lt;link rel=&quot;stylesheet&quot; href=&quot;https://cdn.jsdelivr.net/npm/leaflet@1.9.3/dist/leaflet.css&quot;/&gt;\n",
       "    &lt;link rel=&quot;stylesheet&quot; href=&quot;https://cdn.jsdelivr.net/npm/bootstrap@5.2.2/dist/css/bootstrap.min.css&quot;/&gt;\n",
       "    &lt;link rel=&quot;stylesheet&quot; href=&quot;https://netdna.bootstrapcdn.com/bootstrap/3.0.0/css/bootstrap.min.css&quot;/&gt;\n",
       "    &lt;link rel=&quot;stylesheet&quot; href=&quot;https://cdn.jsdelivr.net/npm/@fortawesome/fontawesome-free@6.2.0/css/all.min.css&quot;/&gt;\n",
       "    &lt;link rel=&quot;stylesheet&quot; href=&quot;https://cdnjs.cloudflare.com/ajax/libs/Leaflet.awesome-markers/2.0.2/leaflet.awesome-markers.css&quot;/&gt;\n",
       "    &lt;link rel=&quot;stylesheet&quot; href=&quot;https://cdn.jsdelivr.net/gh/python-visualization/folium/folium/templates/leaflet.awesome.rotate.min.css&quot;/&gt;\n",
       "    \n",
       "            &lt;meta name=&quot;viewport&quot; content=&quot;width=device-width,\n",
       "                initial-scale=1.0, maximum-scale=1.0, user-scalable=no&quot; /&gt;\n",
       "            &lt;style&gt;\n",
       "                #map_67cc92cbbdffc5e5844e101f8b3164be {\n",
       "                    position: relative;\n",
       "                    width: 100.0%;\n",
       "                    height: 100.0%;\n",
       "                    left: 0.0%;\n",
       "                    top: 0.0%;\n",
       "                }\n",
       "                .leaflet-container { font-size: 1rem; }\n",
       "            &lt;/style&gt;\n",
       "        \n",
       "&lt;/head&gt;\n",
       "&lt;body&gt;\n",
       "    \n",
       "    \n",
       "            &lt;div class=&quot;folium-map&quot; id=&quot;map_67cc92cbbdffc5e5844e101f8b3164be&quot; &gt;&lt;/div&gt;\n",
       "        \n",
       "&lt;/body&gt;\n",
       "&lt;script&gt;\n",
       "    \n",
       "    \n",
       "            var map_67cc92cbbdffc5e5844e101f8b3164be = L.map(\n",
       "                &quot;map_67cc92cbbdffc5e5844e101f8b3164be&quot;,\n",
       "                {\n",
       "                    center: [39.444012, -121.833619],\n",
       "                    crs: L.CRS.EPSG3857,\n",
       "                    zoom: 10,\n",
       "                    zoomControl: true,\n",
       "                    preferCanvas: false,\n",
       "                }\n",
       "            );\n",
       "\n",
       "            \n",
       "\n",
       "        \n",
       "    \n",
       "            var tile_layer_dd1e6a738ee732dabf3bf1ccac28ce57 = L.tileLayer(\n",
       "                &quot;https://{s}.tile.openstreetmap.org/{z}/{x}/{y}.png&quot;,\n",
       "                {&quot;attribution&quot;: &quot;Data by \\u0026copy; \\u003ca target=\\&quot;_blank\\&quot; href=\\&quot;http://openstreetmap.org\\&quot;\\u003eOpenStreetMap\\u003c/a\\u003e, under \\u003ca target=\\&quot;_blank\\&quot; href=\\&quot;http://www.openstreetmap.org/copyright\\&quot;\\u003eODbL\\u003c/a\\u003e.&quot;, &quot;detectRetina&quot;: false, &quot;maxNativeZoom&quot;: 18, &quot;maxZoom&quot;: 18, &quot;minZoom&quot;: 0, &quot;noWrap&quot;: false, &quot;opacity&quot;: 1, &quot;subdomains&quot;: &quot;abc&quot;, &quot;tms&quot;: false}\n",
       "            ).addTo(map_67cc92cbbdffc5e5844e101f8b3164be);\n",
       "        \n",
       "&lt;/script&gt;\n",
       "&lt;/html&gt;\" style=\"position:absolute;width:100%;height:100%;left:0;top:0;border:none !important;\" allowfullscreen webkitallowfullscreen mozallowfullscreen></iframe></div></div>"
      ],
      "text/plain": [
       "<folium.folium.Map at 0x26be2965df0>"
      ]
     },
     "execution_count": 23,
     "metadata": {},
     "output_type": "execute_result"
    }
   ],
   "source": [
    "# a simple folium map\n",
    "import folium\n",
    "\n",
    "m = folium.Map(location=[lat,lon])\n",
    "m"
   ]
  },
  {
   "cell_type": "code",
   "execution_count": 24,
   "id": "82870984",
   "metadata": {},
   "outputs": [],
   "source": [
    "# Google function that allows ee layers on folium\n",
    "def add_ee_layer(self, ee_image_object, vis_params, name):\n",
    "    \"\"\"Adds a method for displaying Earth Engine image tiles to folium map.\"\"\"\n",
    "    map_id_dict = ee.Image(ee_image_object).getMapId(vis_params)\n",
    "    folium.raster_layers.TileLayer(\n",
    "        tiles=map_id_dict['tile_fetcher'].url_format,\n",
    "        attr='Map Data &copy; <a href=\"https://earthengine.google.com/\">Google Earth Engine</a>',\n",
    "        name=name,\n",
    "        overlay=True,\n",
    "        control=True\n",
    "    ).add_to(self)\n",
    "\n",
    "# Add Earth Engine drawing method to folium\n",
    "folium.Map.add_ee_layer = add_ee_layer"
   ]
  },
  {
   "cell_type": "code",
   "execution_count": 25,
   "id": "1497668c",
   "metadata": {},
   "outputs": [
    {
     "data": {
      "text/html": [
       "<div style=\"width:100%;\"><div style=\"position:relative;width:100%;height:0;padding-bottom:60%;\"><span style=\"color:#565656\">Make this Notebook Trusted to load map: File -> Trust Notebook</span><iframe srcdoc=\"&lt;!DOCTYPE html&gt;\n",
       "&lt;html&gt;\n",
       "&lt;head&gt;\n",
       "    \n",
       "    &lt;meta http-equiv=&quot;content-type&quot; content=&quot;text/html; charset=UTF-8&quot; /&gt;\n",
       "    \n",
       "        &lt;script&gt;\n",
       "            L_NO_TOUCH = false;\n",
       "            L_DISABLE_3D = false;\n",
       "        &lt;/script&gt;\n",
       "    \n",
       "    &lt;style&gt;html, body {width: 100%;height: 100%;margin: 0;padding: 0;}&lt;/style&gt;\n",
       "    &lt;style&gt;#map {position:absolute;top:0;bottom:0;right:0;left:0;}&lt;/style&gt;\n",
       "    &lt;script src=&quot;https://cdn.jsdelivr.net/npm/leaflet@1.9.3/dist/leaflet.js&quot;&gt;&lt;/script&gt;\n",
       "    &lt;script src=&quot;https://code.jquery.com/jquery-1.12.4.min.js&quot;&gt;&lt;/script&gt;\n",
       "    &lt;script src=&quot;https://cdn.jsdelivr.net/npm/bootstrap@5.2.2/dist/js/bootstrap.bundle.min.js&quot;&gt;&lt;/script&gt;\n",
       "    &lt;script src=&quot;https://cdnjs.cloudflare.com/ajax/libs/Leaflet.awesome-markers/2.0.2/leaflet.awesome-markers.js&quot;&gt;&lt;/script&gt;\n",
       "    &lt;link rel=&quot;stylesheet&quot; href=&quot;https://cdn.jsdelivr.net/npm/leaflet@1.9.3/dist/leaflet.css&quot;/&gt;\n",
       "    &lt;link rel=&quot;stylesheet&quot; href=&quot;https://cdn.jsdelivr.net/npm/bootstrap@5.2.2/dist/css/bootstrap.min.css&quot;/&gt;\n",
       "    &lt;link rel=&quot;stylesheet&quot; href=&quot;https://netdna.bootstrapcdn.com/bootstrap/3.0.0/css/bootstrap.min.css&quot;/&gt;\n",
       "    &lt;link rel=&quot;stylesheet&quot; href=&quot;https://cdn.jsdelivr.net/npm/@fortawesome/fontawesome-free@6.2.0/css/all.min.css&quot;/&gt;\n",
       "    &lt;link rel=&quot;stylesheet&quot; href=&quot;https://cdnjs.cloudflare.com/ajax/libs/Leaflet.awesome-markers/2.0.2/leaflet.awesome-markers.css&quot;/&gt;\n",
       "    &lt;link rel=&quot;stylesheet&quot; href=&quot;https://cdn.jsdelivr.net/gh/python-visualization/folium/folium/templates/leaflet.awesome.rotate.min.css&quot;/&gt;\n",
       "    \n",
       "            &lt;meta name=&quot;viewport&quot; content=&quot;width=device-width,\n",
       "                initial-scale=1.0, maximum-scale=1.0, user-scalable=no&quot; /&gt;\n",
       "            &lt;style&gt;\n",
       "                #map_c614017ea36ee24a631edc4919bca252 {\n",
       "                    position: relative;\n",
       "                    width: 100.0%;\n",
       "                    height: 100.0%;\n",
       "                    left: 0.0%;\n",
       "                    top: 0.0%;\n",
       "                }\n",
       "                .leaflet-container { font-size: 1rem; }\n",
       "            &lt;/style&gt;\n",
       "        \n",
       "&lt;/head&gt;\n",
       "&lt;body&gt;\n",
       "    \n",
       "    \n",
       "            &lt;div class=&quot;folium-map&quot; id=&quot;map_c614017ea36ee24a631edc4919bca252&quot; &gt;&lt;/div&gt;\n",
       "        \n",
       "&lt;/body&gt;\n",
       "&lt;script&gt;\n",
       "    \n",
       "    \n",
       "            var map_c614017ea36ee24a631edc4919bca252 = L.map(\n",
       "                &quot;map_c614017ea36ee24a631edc4919bca252&quot;,\n",
       "                {\n",
       "                    center: [39.444012, -121.833619],\n",
       "                    crs: L.CRS.EPSG3857,\n",
       "                    zoom: 10,\n",
       "                    zoomControl: true,\n",
       "                    preferCanvas: false,\n",
       "                }\n",
       "            );\n",
       "\n",
       "            \n",
       "\n",
       "        \n",
       "    \n",
       "            var tile_layer_f4bf9887c10ee1013c093fdca04e17c4 = L.tileLayer(\n",
       "                &quot;https://{s}.tile.openstreetmap.org/{z}/{x}/{y}.png&quot;,\n",
       "                {&quot;attribution&quot;: &quot;Data by \\u0026copy; \\u003ca target=\\&quot;_blank\\&quot; href=\\&quot;http://openstreetmap.org\\&quot;\\u003eOpenStreetMap\\u003c/a\\u003e, under \\u003ca target=\\&quot;_blank\\&quot; href=\\&quot;http://www.openstreetmap.org/copyright\\&quot;\\u003eODbL\\u003c/a\\u003e.&quot;, &quot;detectRetina&quot;: false, &quot;maxNativeZoom&quot;: 18, &quot;maxZoom&quot;: 18, &quot;minZoom&quot;: 0, &quot;noWrap&quot;: false, &quot;opacity&quot;: 1, &quot;subdomains&quot;: &quot;abc&quot;, &quot;tms&quot;: false}\n",
       "            ).addTo(map_c614017ea36ee24a631edc4919bca252);\n",
       "        \n",
       "    \n",
       "            var tile_layer_073e816b98bbf1761ab8ae533fd5bd69 = L.tileLayer(\n",
       "                &quot;https://earthengine.googleapis.com/v1alpha/projects/earthengine-legacy/maps/06a365b1d2fae816c877cce7a402c68e-d69b0341a78d84481767ea87ee759e26/tiles/{z}/{x}/{y}&quot;,\n",
       "                {&quot;attribution&quot;: &quot;Map Data \\u0026copy; \\u003ca href=\\&quot;https://earthengine.google.com/\\&quot;\\u003eGoogle Earth Engine\\u003c/a\\u003e&quot;, &quot;detectRetina&quot;: false, &quot;maxNativeZoom&quot;: 18, &quot;maxZoom&quot;: 18, &quot;minZoom&quot;: 0, &quot;noWrap&quot;: false, &quot;opacity&quot;: 1, &quot;subdomains&quot;: &quot;abc&quot;, &quot;tms&quot;: false}\n",
       "            ).addTo(map_c614017ea36ee24a631edc4919bca252);\n",
       "        \n",
       "    \n",
       "            var tile_layer_d78650a78b21030479fd0841030cc8d2 = L.tileLayer(\n",
       "                &quot;https://earthengine.googleapis.com/v1alpha/projects/earthengine-legacy/maps/b093d1519bf9f7901fc8365784e8f4d1-f22d8d6a4adf46189ce50cbc021239f6/tiles/{z}/{x}/{y}&quot;,\n",
       "                {&quot;attribution&quot;: &quot;Map Data \\u0026copy; \\u003ca href=\\&quot;https://earthengine.google.com/\\&quot;\\u003eGoogle Earth Engine\\u003c/a\\u003e&quot;, &quot;detectRetina&quot;: false, &quot;maxNativeZoom&quot;: 18, &quot;maxZoom&quot;: 18, &quot;minZoom&quot;: 0, &quot;noWrap&quot;: false, &quot;opacity&quot;: 1, &quot;subdomains&quot;: &quot;abc&quot;, &quot;tms&quot;: false}\n",
       "            ).addTo(map_c614017ea36ee24a631edc4919bca252);\n",
       "        \n",
       "    \n",
       "            var tile_layer_c80d0fd5e28228e1a349c489c2536ca5 = L.tileLayer(\n",
       "                &quot;https://earthengine.googleapis.com/v1alpha/projects/earthengine-legacy/maps/ea68fb7ea6f13db853845ce2e903ecce-3c3948009455d2d0cd03a8161c384112/tiles/{z}/{x}/{y}&quot;,\n",
       "                {&quot;attribution&quot;: &quot;Map Data \\u0026copy; \\u003ca href=\\&quot;https://earthengine.google.com/\\&quot;\\u003eGoogle Earth Engine\\u003c/a\\u003e&quot;, &quot;detectRetina&quot;: false, &quot;maxNativeZoom&quot;: 18, &quot;maxZoom&quot;: 18, &quot;minZoom&quot;: 0, &quot;noWrap&quot;: false, &quot;opacity&quot;: 1, &quot;subdomains&quot;: &quot;abc&quot;, &quot;tms&quot;: false}\n",
       "            ).addTo(map_c614017ea36ee24a631edc4919bca252);\n",
       "        \n",
       "    \n",
       "            var layer_control_a2324f5d842b0799ab8ac4ea56dff1dc = {\n",
       "                base_layers : {\n",
       "                    &quot;openstreetmap&quot; : tile_layer_f4bf9887c10ee1013c093fdca04e17c4,\n",
       "                },\n",
       "                overlays :  {\n",
       "                    &quot;2018-10-07&quot; : tile_layer_073e816b98bbf1761ab8ae533fd5bd69,\n",
       "                    &quot;2018-11-08&quot; : tile_layer_d78650a78b21030479fd0841030cc8d2,\n",
       "                    &quot;2018-12-26&quot; : tile_layer_c80d0fd5e28228e1a349c489c2536ca5,\n",
       "                },\n",
       "            };\n",
       "            L.control.layers(\n",
       "                layer_control_a2324f5d842b0799ab8ac4ea56dff1dc.base_layers,\n",
       "                layer_control_a2324f5d842b0799ab8ac4ea56dff1dc.overlays,\n",
       "                {&quot;autoZIndex&quot;: true, &quot;collapsed&quot;: false, &quot;position&quot;: &quot;topright&quot;}\n",
       "            ).addTo(map_c614017ea36ee24a631edc4919bca252);\n",
       "        \n",
       "&lt;/script&gt;\n",
       "&lt;/html&gt;\" style=\"position:absolute;width:100%;height:100%;left:0;top:0;border:none !important;\" allowfullscreen webkitallowfullscreen mozallowfullscreen></iframe></div></div>"
      ],
      "text/plain": [
       "<folium.folium.Map at 0x26be2e6f670>"
      ]
     },
     "metadata": {},
     "output_type": "display_data"
    }
   ],
   "source": [
    "# Create a map\n",
    "my_map = folium.Map(location=[lat, lon], zoom_start=10)\n",
    "\n",
    "# Add a layer for each satellite image of interest (before, during and after)\n",
    "for i in landsat_sequence:\n",
    "\n",
    "    # when was this image taken?\n",
    "    date = ee.Image(landsat_list.get(i)).get('DATE_ACQUIRED').getInfo()\n",
    "\n",
    "    my_map.add_ee_layer(ee.Image(landsat_list.get(i)).normalizedDifference(['SR_B5', 'SR_B4']), \n",
    "                        ndvi_parameters, \n",
    "                        name=date)\n",
    "    \n",
    "# Add a layer control panel to the map\n",
    "folium.LayerControl(collapsed = False).add_to(my_map)\n",
    "\n",
    "# Display the map.\n",
    "display(my_map)"
   ]
  },
  {
   "cell_type": "code",
   "execution_count": 26,
   "id": "da67e955",
   "metadata": {},
   "outputs": [],
   "source": [
    "my_map.save('camp.html')"
   ]
  },
  {
   "cell_type": "code",
   "execution_count": null,
   "id": "f303bfa0",
   "metadata": {},
   "outputs": [],
   "source": []
  }
 ],
 "metadata": {
  "kernelspec": {
   "display_name": "Python 3 (ipykernel)",
   "language": "python",
   "name": "python3"
  },
  "language_info": {
   "codemirror_mode": {
    "name": "ipython",
    "version": 3
   },
   "file_extension": ".py",
   "mimetype": "text/x-python",
   "name": "python",
   "nbconvert_exporter": "python",
   "pygments_lexer": "ipython3",
   "version": "3.9.15"
  }
 },
 "nbformat": 4,
 "nbformat_minor": 5
}
